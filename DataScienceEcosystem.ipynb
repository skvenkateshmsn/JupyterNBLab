{
 "cells": [
  {
   "cell_type": "markdown",
   "id": "bade6501-03ae-4f05-8b37-489a672a6edd",
   "metadata": {},
   "source": [
    "# Data Science Tools and Ecosystem "
   ]
  },
  {
   "cell_type": "markdown",
   "id": "765f02db-520f-4726-93f0-b7fd66f44bcd",
   "metadata": {},
   "source": [
    "In this notebook, Data Science Tools and Ecosystem are summarized"
   ]
  },
  {
   "cell_type": "markdown",
   "id": "c8484b95-6e7e-449a-8583-6512b6d24509",
   "metadata": {},
   "source": [
    "**Objectives**\n",
    "- List popular lanagues for Data Science\n",
    "- List commonly use libraries for Data Scientists\n",
    "- List commonly used Data Science Tools\n",
    "- Show how documentation and  code execution can be combined in a Jupyter Notebook "
   ]
  },
  {
   "cell_type": "markdown",
   "id": "44b1dbb6-3462-40bc-a6f9-40f871d4eb12",
   "metadata": {},
   "source": [
    "## Author\n",
    "S.Venkatesh"
   ]
  },
  {
   "cell_type": "markdown",
   "id": "db7f1853-3505-4392-a8ec-812483bc5253",
   "metadata": {},
   "source": [
    "Some of the popular languages that Data Scientists use are:\n",
    "\n",
    "1. R\n",
    "2. Python\n",
    "3. SQL\n",
    "4. Julia"
   ]
  },
  {
   "cell_type": "markdown",
   "id": "cceb4617-2b5d-4fa9-84d3-405c864c43b4",
   "metadata": {},
   "source": [
    "\n",
    "Some of the commonly used libraries used by Data Scientists are:\n",
    "\n",
    "1. Pandas\n",
    "2. Matplotlib\n",
    "3. SciPy\n",
    "4. Scikit-learn\n",
    "5. TensorFlow"
   ]
  },
  {
   "cell_type": "markdown",
   "id": "d14d2489-6ce4-4c8d-8531-b0570274a475",
   "metadata": {},
   "source": [
    "\n",
    "| Data Science Tools |\n",
    "| ------------------ |\n",
    "| Apache Hadoop |\n",
    "| Apache Spark |\n",
    "| Jupyter Notebook |\n",
    "\n"
   ]
  },
  {
   "cell_type": "markdown",
   "id": "abc6fe9b-2115-4569-825b-6befdf9e23ee",
   "metadata": {},
   "source": [
    "### Below are a few examples of evaluating arithmetic expressions in python\n"
   ]
  },
  {
   "cell_type": "code",
   "execution_count": 1,
   "id": "7d6d383c-f1a3-4873-9f3b-eb43031db64c",
   "metadata": {},
   "outputs": [
    {
     "data": {
      "text/plain": [
       "17"
      ]
     },
     "execution_count": 1,
     "metadata": {},
     "output_type": "execute_result"
    }
   ],
   "source": [
    "# This is a simple arithmetic expression to multiple and then add integers\n",
    "(3*4)+5"
   ]
  },
  {
   "cell_type": "code",
   "execution_count": 2,
   "id": "f9f8a71f-8f5a-4425-b50a-c3e269c7b31c",
   "metadata": {},
   "outputs": [
    {
     "data": {
      "text/plain": [
       "3.3333333333333335"
      ]
     },
     "execution_count": 2,
     "metadata": {},
     "output_type": "execute_result"
    }
   ],
   "source": [
    "# This will convert 200 minutes to hours by dividing by 60\n",
    "200/60"
   ]
  },
  {
   "cell_type": "code",
   "execution_count": null,
   "id": "a2802725-e4b9-495f-9529-878b12a7fe87",
   "metadata": {},
   "outputs": [],
   "source": []
  }
 ],
 "metadata": {
  "kernelspec": {
   "display_name": "Python 3 (ipykernel)",
   "language": "python",
   "name": "python3"
  },
  "language_info": {
   "codemirror_mode": {
    "name": "ipython",
    "version": 3
   },
   "file_extension": ".py",
   "mimetype": "text/x-python",
   "name": "python",
   "nbconvert_exporter": "python",
   "pygments_lexer": "ipython3",
   "version": "3.11.7"
  }
 },
 "nbformat": 4,
 "nbformat_minor": 5
}
